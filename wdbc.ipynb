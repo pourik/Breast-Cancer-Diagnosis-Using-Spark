{
  "nbformat": 4,
  "nbformat_minor": 0,
  "metadata": {
    "colab": {
      "provenance": []
    },
    "kernelspec": {
      "name": "python3",
      "display_name": "Python 3"
    },
    "language_info": {
      "name": "python"
    }
  },
  "cells": [
    {
      "cell_type": "code",
      "source": [
        "from pyspark import SparkContext\n",
        "from pyspark.sql import SparkSession"
      ],
      "metadata": {
        "id": "L-3AJT6kjvn5"
      },
      "execution_count": null,
      "outputs": []
    },
    {
      "cell_type": "code",
      "source": [
        "sc = SparkContext(appName = \"Breast_Cancer_Diagnosis\")"
      ],
      "metadata": {
        "id": "tn9-7lFWj19R"
      },
      "execution_count": null,
      "outputs": []
    },
    {
      "cell_type": "code",
      "source": [
        "spark = SparkSession.Builder().getOrCreate()"
      ],
      "metadata": {
        "id": "R8-Fpwzfj2eC"
      },
      "execution_count": null,
      "outputs": []
    },
    {
      "cell_type": "code",
      "execution_count": null,
      "metadata": {
        "id": "2HqQ6eJlgvi2"
      },
      "outputs": [],
      "source": [
        "from pyspark.ml.linalg import Vectors\n",
        "from pyspark.ml.feature import StringIndexer"
      ]
    },
    {
      "cell_type": "code",
      "source": [
        "import zipfile\n",
        "\n",
        "with zipfile.ZipFile(\"/content/wdbc.zip\") as zf:\n",
        "    zf.extractall()"
      ],
      "metadata": {
        "id": "3LHE7gf6ipK0"
      },
      "execution_count": null,
      "outputs": []
    },
    {
      "cell_type": "code",
      "source": [
        "data = []\n",
        "\n",
        "with open(\"wdbc.data\") as infile:\n",
        "  for line in infile:\n",
        "    tokens = line.rstrip(\"\\n\").split(\",\")\n",
        "    y = tokens[1]\n",
        "    features = Vectors.dense([float(x) for x in tokens[2:]])\n",
        "    data.append((y, features))"
      ],
      "metadata": {
        "id": "IY1QdaE9hXNN"
      },
      "execution_count": null,
      "outputs": []
    },
    {
      "cell_type": "code",
      "source": [
        "inputDF = spark.createDataFrame(data, [\"label\", \"features\"])"
      ],
      "metadata": {
        "id": "jtsWClrgjjHt"
      },
      "execution_count": null,
      "outputs": []
    },
    {
      "cell_type": "code",
      "source": [
        "inputDF.show()"
      ],
      "metadata": {
        "colab": {
          "base_uri": "https://localhost:8080/"
        },
        "id": "hyHTG6yuk_mD",
        "outputId": "bb0cd122-196d-4b1b-a142-209fd6832e9a"
      },
      "execution_count": null,
      "outputs": [
        {
          "output_type": "stream",
          "name": "stdout",
          "text": [
            "+-----+--------------------+\n",
            "|label|            features|\n",
            "+-----+--------------------+\n",
            "|    M|[17.99,10.38,122....|\n",
            "|    M|[20.57,17.77,132....|\n",
            "|    M|[19.69,21.25,130....|\n",
            "|    M|[11.42,20.38,77.5...|\n",
            "|    M|[20.29,14.34,135....|\n",
            "|    M|[12.45,15.7,82.57...|\n",
            "|    M|[18.25,19.98,119....|\n",
            "|    M|[13.71,20.83,90.2...|\n",
            "|    M|[13.0,21.82,87.5,...|\n",
            "|    M|[12.46,24.04,83.9...|\n",
            "|    M|[16.02,23.24,102....|\n",
            "|    M|[15.78,17.89,103....|\n",
            "|    M|[19.17,24.8,132.4...|\n",
            "|    M|[15.85,23.95,103....|\n",
            "|    M|[13.73,22.61,93.6...|\n",
            "|    M|[14.54,27.54,96.7...|\n",
            "|    M|[14.68,20.13,94.7...|\n",
            "|    M|[16.13,20.68,108....|\n",
            "|    M|[19.81,22.15,130....|\n",
            "|    B|[13.54,14.36,87.4...|\n",
            "+-----+--------------------+\n",
            "only showing top 20 rows\n",
            "\n"
          ]
        }
      ]
    },
    {
      "cell_type": "code",
      "source": [
        "stringIndexer = StringIndexer(inputCol = \"label\", outputCol = \"labelIndexed\")\n",
        "si_model = stringIndexer.fit(inputDF)\n",
        "inputDF2 = si_model.transform(inputDF)"
      ],
      "metadata": {
        "id": "FFtvHm3KlBer"
      },
      "execution_count": null,
      "outputs": []
    },
    {
      "cell_type": "code",
      "source": [
        "(train, test) = inputDF2.randomSplit([0.7,0.3], seed = 23)"
      ],
      "metadata": {
        "id": "uT5y7W96lmZJ"
      },
      "execution_count": null,
      "outputs": []
    },
    {
      "cell_type": "code",
      "source": [
        "from pyspark.ml.classification import DecisionTreeClassifier\n",
        "from pyspark.ml.evaluation import MulticlassClassificationEvaluator"
      ],
      "metadata": {
        "id": "PK56nXvBmDam"
      },
      "execution_count": null,
      "outputs": []
    },
    {
      "cell_type": "code",
      "source": [
        "decisionTree = DecisionTreeClassifier(labelCol = \"labelIndexed\")"
      ],
      "metadata": {
        "id": "ADnQao4kmRGF"
      },
      "execution_count": null,
      "outputs": []
    },
    {
      "cell_type": "code",
      "source": [
        "dtModel = decisionTree.fit(train)"
      ],
      "metadata": {
        "id": "C58nTl6nme7p"
      },
      "execution_count": null,
      "outputs": []
    },
    {
      "cell_type": "code",
      "source": [
        "dtModel.numNodes"
      ],
      "metadata": {
        "colab": {
          "base_uri": "https://localhost:8080/"
        },
        "id": "dm_63VIAmjgN",
        "outputId": "843863d8-07fa-4aa3-a193-982dcdb41376"
      },
      "execution_count": null,
      "outputs": [
        {
          "output_type": "execute_result",
          "data": {
            "text/plain": [
              "27"
            ]
          },
          "metadata": {},
          "execution_count": 17
        }
      ]
    },
    {
      "cell_type": "code",
      "source": [
        "dtModel.depth"
      ],
      "metadata": {
        "colab": {
          "base_uri": "https://localhost:8080/"
        },
        "id": "xIpqAeKymmgH",
        "outputId": "60972f78-3b29-479e-e475-bee0c49a21d5"
      },
      "execution_count": null,
      "outputs": [
        {
          "output_type": "execute_result",
          "data": {
            "text/plain": [
              "5"
            ]
          },
          "metadata": {},
          "execution_count": 18
        }
      ]
    },
    {
      "cell_type": "code",
      "source": [
        "dtModel.featureImportances"
      ],
      "metadata": {
        "colab": {
          "base_uri": "https://localhost:8080/"
        },
        "id": "5b2TbDz-mn_G",
        "outputId": "8a76f551-0220-47d1-fff3-8806c1595d1d"
      },
      "execution_count": null,
      "outputs": [
        {
          "output_type": "execute_result",
          "data": {
            "text/plain": [
              "SparseVector(30, {0: 0.0073, 1: 0.0565, 2: 0.0082, 3: 0.0131, 5: 0.0219, 10: 0.0105, 20: 0.7509, 21: 0.018, 24: 0.0134, 26: 0.0106, 27: 0.0897})"
            ]
          },
          "metadata": {},
          "execution_count": 19
        }
      ]
    },
    {
      "cell_type": "code",
      "source": [
        "dtModel.numFeatures"
      ],
      "metadata": {
        "colab": {
          "base_uri": "https://localhost:8080/"
        },
        "id": "aIbU54grmqqM",
        "outputId": "93ecc603-0a72-434a-8a23-3c062182f150"
      },
      "execution_count": null,
      "outputs": [
        {
          "output_type": "execute_result",
          "data": {
            "text/plain": [
              "30"
            ]
          },
          "metadata": {},
          "execution_count": 20
        }
      ]
    },
    {
      "cell_type": "code",
      "source": [
        "print(dtModel.toDebugString)"
      ],
      "metadata": {
        "colab": {
          "base_uri": "https://localhost:8080/"
        },
        "id": "KkAxux0umwkY",
        "outputId": "acae1d27-14f7-4660-999e-5778808bf98a"
      },
      "execution_count": null,
      "outputs": [
        {
          "output_type": "stream",
          "name": "stdout",
          "text": [
            "DecisionTreeClassificationModel: uid=DecisionTreeClassifier_b738baba51c8, depth=5, numNodes=27, numClasses=2, numFeatures=30\n",
            "  If (feature 20 <= 16.765)\n",
            "   If (feature 27 <= 0.15635)\n",
            "    If (feature 3 <= 696.25)\n",
            "     If (feature 24 <= 0.179)\n",
            "      Predict: 0.0\n",
            "     Else (feature 24 > 0.179)\n",
            "      If (feature 0 <= 9.7485)\n",
            "       Predict: 0.0\n",
            "      Else (feature 0 > 9.7485)\n",
            "       Predict: 1.0\n",
            "    Else (feature 3 > 696.25)\n",
            "     If (feature 1 <= 13.295)\n",
            "      Predict: 0.0\n",
            "     Else (feature 1 > 13.295)\n",
            "      Predict: 1.0\n",
            "   Else (feature 27 > 0.15635)\n",
            "    If (feature 21 <= 23.215)\n",
            "     If (feature 2 <= 86.945)\n",
            "      Predict: 0.0\n",
            "     Else (feature 2 > 86.945)\n",
            "      Predict: 1.0\n",
            "    Else (feature 21 > 23.215)\n",
            "     Predict: 1.0\n",
            "  Else (feature 20 > 16.765)\n",
            "   If (feature 1 <= 14.805)\n",
            "    If (feature 5 <= 0.13035)\n",
            "     Predict: 0.0\n",
            "    Else (feature 5 > 0.13035)\n",
            "     Predict: 1.0\n",
            "   Else (feature 1 > 14.805)\n",
            "    If (feature 10 <= 0.18159999999999998)\n",
            "     Predict: 0.0\n",
            "    Else (feature 10 > 0.18159999999999998)\n",
            "     If (feature 26 <= 0.1894)\n",
            "      If (feature 1 <= 19.575)\n",
            "       Predict: 0.0\n",
            "      Else (feature 1 > 19.575)\n",
            "       Predict: 1.0\n",
            "     Else (feature 26 > 0.1894)\n",
            "      Predict: 1.0\n",
            "\n"
          ]
        }
      ]
    },
    {
      "cell_type": "code",
      "source": [
        "predictions = dtModel.transform(test)"
      ],
      "metadata": {
        "id": "Zf0oaCMEmzft"
      },
      "execution_count": null,
      "outputs": []
    },
    {
      "cell_type": "code",
      "source": [
        "predictions.select(\"label\", \"labelIndexed\", \"probability\", \"prediction\").show()"
      ],
      "metadata": {
        "colab": {
          "base_uri": "https://localhost:8080/"
        },
        "id": "CDxvwEDrm-7s",
        "outputId": "d6e02405-b76b-4c12-df24-42ea24b639e7"
      },
      "execution_count": null,
      "outputs": [
        {
          "output_type": "stream",
          "name": "stdout",
          "text": [
            "+-----+------------+--------------------+----------+\n",
            "|label|labelIndexed|         probability|prediction|\n",
            "+-----+------------+--------------------+----------+\n",
            "|    B|         0.0|[0.97609561752988...|       0.0|\n",
            "|    B|         0.0|[0.97609561752988...|       0.0|\n",
            "|    B|         0.0|[0.97609561752988...|       0.0|\n",
            "|    B|         0.0|[0.97609561752988...|       0.0|\n",
            "|    B|         0.0|[0.97609561752988...|       0.0|\n",
            "|    B|         0.0|[0.97609561752988...|       0.0|\n",
            "|    B|         0.0|[0.97609561752988...|       0.0|\n",
            "|    B|         0.0|[0.97609561752988...|       0.0|\n",
            "|    B|         0.0|[0.97609561752988...|       0.0|\n",
            "|    B|         0.0|[0.97609561752988...|       0.0|\n",
            "|    B|         0.0|[0.97609561752988...|       0.0|\n",
            "|    B|         0.0|[0.97609561752988...|       0.0|\n",
            "|    B|         0.0|[0.97609561752988...|       0.0|\n",
            "|    B|         0.0|[0.97609561752988...|       0.0|\n",
            "|    B|         0.0|[0.97609561752988...|       0.0|\n",
            "|    B|         0.0|[0.97609561752988...|       0.0|\n",
            "|    B|         0.0|[0.97609561752988...|       0.0|\n",
            "|    B|         0.0|[0.97609561752988...|       0.0|\n",
            "|    B|         0.0|[0.97609561752988...|       0.0|\n",
            "|    B|         0.0|[0.97609561752988...|       0.0|\n",
            "+-----+------------+--------------------+----------+\n",
            "only showing top 20 rows\n",
            "\n"
          ]
        }
      ]
    },
    {
      "cell_type": "code",
      "source": [
        "evaluator = MulticlassClassificationEvaluator(predictionCol = \"prediction\", labelCol = \"labelIndexed\")\n",
        "accuracy = evaluator.evaluate(predictions)\n",
        "\n",
        "print(\"Test Error = %g\" % (1.0 - accuracy))"
      ],
      "metadata": {
        "colab": {
          "base_uri": "https://localhost:8080/"
        },
        "id": "WvVTajlNnM91",
        "outputId": "2f158b2b-3a47-43a4-e694-dfe90da1680e"
      },
      "execution_count": null,
      "outputs": [
        {
          "output_type": "stream",
          "name": "stdout",
          "text": [
            "Test Error = 0.0519481\n"
          ]
        }
      ]
    },
    {
      "cell_type": "code",
      "source": [],
      "metadata": {
        "id": "r0pj0NchnZDb"
      },
      "execution_count": null,
      "outputs": []
    }
  ]
}